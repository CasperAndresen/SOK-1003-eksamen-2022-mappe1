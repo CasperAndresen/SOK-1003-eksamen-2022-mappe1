{
 "cells": [
  {
   "cell_type": "markdown",
   "id": "f7183bc1-2284-4311-9273-743fa73e63a7",
   "metadata": {},
   "source": [
    "# Mappeoppgave 1\n",
    "## <u>Beskrivelse\n",
    "Les oppgaveteksten nøye. Se hvordan man leverer oppgaven <th><a href='https://uit-sok-1003-h22.github.io/semesteroppgave.html'>her</a> </th> og  <th><a href='https://uit-sok-1003-h22.github.io/github.html'>her</a>. Husk at den skal leveres både som jupyter-fil og som PDF. Kommenter kodene du skriver i alle oppgaver og vær nøye på å definere aksene mm i figurer. I noen av oppgavetekstene står det hint, men det betyr ikke at de ikke kan løses på andre måter\n",
    "\n",
    "##### For å hente denne filen til Jupyter gjør du slik:\n",
    "\n",
    "<ol>\n",
    "<li>Åpne et \"terminalvindu\"\n",
    "<li>Gå til hjemmeområdet ditt\n",
    "    \n",
    "    \n",
    "    [user@jupty02 ~]$ cd\n",
    "<li>Lag en ny mappe på ditt hjemmeområde ved å skrive inn i terminalvinduet \n",
    "\n",
    "    [user@jupty02 ~]$ mkdir SOK-1003-eksamen-2022-mappe1 \n",
    "\n",
    "<li>Gå så inn i den mappen du har laget ved å skrive\n",
    "\n",
    "    [user@jupty02 ~]$ cd SOK-1003-eksamen-2022-mappe1 \n",
    "<li> Last ned kursmateriellet ved å kopiere inn følgende kommando i kommandovinduet:\n",
    "\n",
    "    [user@jupty02 sok-1003]$ git clone https://github.com/uit-sok-1003-h22/mappe/\n",
    "</ol> \n",
    "<br> Oppgi gruppenavn m/ medlemmer på epost ole.k.aars@uit.no innen 7/10, så blir dere satt opp til tidspunkt for presentasjon 19/10. \n",
    "<br>Bruk så denne filen til å gjøre besvarelsen din. Ved behov; legg til flere celler ved å trykke \"b\"\n",
    "</br>\n",
    "<hr>"
   ]
  },
  {
   "cell_type": "markdown",
   "id": "6578a453-0dfe-4f86-b2c4-0bbd934987c3",
   "metadata": {},
   "source": [
    "## <u> Oppgavene\n",
    "\n",
    "### Oppgave 1 (5 poeng)\n",
    "a) Lag en kort fortelling i en python kode som inkluderer alle de fire typer variabler vi har lært om i kurset. Koden skal kunne kjøres med print(). Koden burde inneholde utregninger av elementer du har definert\n"
   ]
  },
  {
   "cell_type": "code",
   "execution_count": 55,
   "id": "92c6740e-90f9-4a78-a331-5496fdc06b0e",
   "metadata": {},
   "outputs": [
    {
     "name": "stdout",
     "output_type": "stream",
     "text": [
      "Kåre skal frakte bollene sine fra Tromsø til Nordkjosbotn. Dette var ingen lett sak. \n",
      "Det er nemlig True at boller er runde, og da må det litt planlegging til. \n",
      "Han har 1000 boller og hver bolle veier 80.0g. \n",
      "Vekten på alle bollene sine blir da 80.0 kg. \n",
      "Dette ble for mye vekt ettersom Ole Kristians trucking service kun kan frakte 79.999 kg. \n",
      "\n"
     ]
    }
   ],
   "source": [
    "antall_boller = 1000\n",
    "boller_vekt = 80.0\n",
    "boller_er_runde = True\n",
    "frakt_selskap = \"Ole Kristians trucking service\"\n",
    "\n",
    "print(f\"Kåre skal frakte bollene sine fra Tromsø til Nordkjosbotn. Dette var ingen lett sak. \\n\"\n",
    "f\"Det er nemlig {boller_er_runde} at boller er runde, og da må det litt planlegging til. \\n\"\n",
    "f\"Han har {antall_boller} boller og hver bolle veier {boller_vekt}g. \\n\"\n",
    "f\"Vekten på alle bollene sine blir da {(antall_boller*boller_vekt)/1000} kg. \\n\"\n",
    "f\"Dette ble for mye vekt ettersom {frakt_selskap} kun kan frakte {(antall_boller*boller_vekt-1)/1000} kg. \\n\")"
   ]
  },
  {
   "cell_type": "markdown",
   "id": "843a6ebc-9a7d-449a-848e-1776d8b3e2ab",
   "metadata": {},
   "source": [
    "### Oppgave 2 (10 poeng)"
   ]
  },
  {
   "cell_type": "markdown",
   "id": "65c0f196-e9c4-447f-be5a-7e08643fc38d",
   "metadata": {},
   "source": [
    "Leieprisene i landet har steget de siste månedene. Ved å bruke realistiske tall<br> \n",
    "a) Lag tilbuds og etterspørselsfunksjoner for leie av bolig (Bruk av ikke-lineære funksjoner belønnes). <br>\n",
    " <br> Definer funksjonene slik at det er mulig å finne en likevekt\n",
    "\n",
    "\n",
    "\n"
   ]
  },
  {
   "cell_type": "code",
   "execution_count": 3,
   "id": "7d86454c-767f-4b08-ba51-585165c03e7c",
   "metadata": {},
   "outputs": [],
   "source": [
    "#definerer demand og supply funksjoner\n",
    "def demand(x):\n",
    "    return (x**1.5)*(1/250)\n",
    "\n",
    "def supply(x):\n",
    "    return 3000/(100+x)"
   ]
  },
  {
   "cell_type": "markdown",
   "id": "8994d05c-3eff-428b-9cc3-c52817cba507",
   "metadata": {},
   "source": [
    "b) Vis at disse er henholdvis fallende og stigende, ved bruk av\n",
    "- Regning\n",
    "- figurativt (matplotlib) \n",
    "Husk å markere aksene tydelig og at funskjonene er definert slik at linjene krysser"
   ]
  },
  {
   "cell_type": "code",
   "execution_count": 4,
   "id": "8707e3ee-2227-4e0d-b3ba-a92ae302e028",
   "metadata": {},
   "outputs": [
    {
     "name": "stdout",
     "output_type": "stream",
     "text": [
      "[30.         29.7029703  29.41176471 29.12621359 28.84615385 28.57142857\n",
      " 28.30188679 28.03738318 27.77777778 27.52293578]\n",
      "[0.         0.004      0.01131371 0.02078461 0.032      0.04472136\n",
      " 0.05878775 0.07408104 0.09050967 0.108     ]\n"
     ]
    },
    {
     "data": {
      "image/png": "[encoded data removed]",
      "text/plain": [
       "<Figure size 432x288 with 1 Axes>"
      ]
     },
     "metadata": {
      "needs_background": "light"
     },
     "output_type": "display_data"
    }
   ],
   "source": [
    "from matplotlib import pyplot as plt\n",
    "import numpy as np\n",
    "\n",
    "x = np.linspace(1,1000,1000)\n",
    "\n",
    "plt.plot(x,supply(x),label=\"Tilbud\")\n",
    "\n",
    "plt.plot(x,demand(x),label=\"Etterspørsel\")\n",
    "\n",
    "plt.legend(loc=\"lower right\")\n",
    "\n",
    "plt.ylabel(\"Pris i tusener\")\n",
    "plt.xlabel(\"Enheter\")\n",
    "plt.title(\"Leieprisene etter etterspørsel\")\n",
    "\n",
    "plt.ylim((-2,32))\n",
    "plt.xlim((-2,200))\n",
    "\n",
    "plt.scatter(188, 10.5)\n",
    "\n",
    "plt.show\n",
    "\n",
    "print(supply(np.arange(0,10)))\n",
    "print(demand(np.arange(0,10)))"
   ]
  },
  {
   "cell_type": "markdown",
   "id": "8a528c27-c3d6-469f-824f-f89e217d1194",
   "metadata": {},
   "source": [
    "c) Kommenter funksjonene og likevekten. Vis gjerne figurativt hvor likevekten er ved bruk av scatter"
   ]
  },
  {
   "cell_type": "markdown",
   "id": "0d859c15-a92d-467e-a498-bd20f700ff04",
   "metadata": {},
   "source": [
    "*Her har du likevekten på 188 enheter og 10,5 tusen i pris.Funksjonen viser oss at det er få tilgjengelige boliger til en lav pris, men samtidig høy etterspørsel på dem. Samtidig ser vi at de boligene med høy leiepris har lavere etterspørsel.*\n"
   ]
  },
  {
   "cell_type": "markdown",
   "id": "dc7ec86f-9b5e-4e32-8ade-d95cfeb93d29",
   "metadata": {
    "tags": []
   },
   "source": [
    "### Oppgave 3 (15 poeng)"
   ]
  },
  {
   "cell_type": "markdown",
   "id": "ffd4601d-7863-4b7d-a3ca-56153fb5143f",
   "metadata": {},
   "source": [
    "SSB har omfattende data på befolkningsutvikling (https://www.ssb.no/statbank/table/05803/tableViewLayout1/). Disse dataene skal du bruke i de neste deloppgavene.\n",
    "\n",
    "a) lag lister av følgende variabler: \"Befolkning 1. januar\", \"Døde i alt\", \"Innflyttinger\" og \"Utflyttinger\". Velg selv variabelnavn når du definerer dem i python. Første element i hver liste skal være variabelnavnet. Bruk tall for perioden 2012-2021. Lag så en liste av disse listene. Du kan kalle den \"ssb\". \n",
    "<br><br>\n",
    "<b>Hint:</b> når du skal velge variabler på SSB sin nettside må du holde inne ctrl for å velge flere variabler.\n"
   ]
  },
  {
   "cell_type": "code",
   "execution_count": 5,
   "id": "89588a39-4307-4a7f-ba4e-91ac7a8a8b66",
   "metadata": {},
   "outputs": [],
   "source": [
    "#Lager lister for hver variabler. Lager så en samlet liste.\n",
    "year = [\"year\", 2012, 2013, 2014, 2015, 2015, 2017, 2018, 2019, 2020, 2021]\n",
    "pop = [\"pop\", 4985870, 5051275, 5109056, 5165802, 5213985, 5258317, 5295619, 5328212, 5367580, 5391369]\n",
    "dead = [\"dead\", 41992, 41282, 40394, 40727, 40726, 40774, 40840, 40684, 40611, 42002]\n",
    "movein = [\"movein\", 78570, 75789, 70030, 67276, 66800, 58192, 52485, 52153, 38071, 53947]\n",
    "moveout = [\"moveout\", 31227, 35716, 31875, 37474, 40724, 36843, 34382, 26826, 26744, 34297]\n",
    "ssb = [year, pop, dead, movein, moveout]"
   ]
  },
  {
   "cell_type": "markdown",
   "id": "d73fb1db-1b16-41e8-afed-b88af54053cd",
   "metadata": {},
   "source": [
    "b) konverter \"ssb\" til en numpy matrise og gi den et nytt navn"
   ]
  },
  {
   "cell_type": "code",
   "execution_count": 6,
   "id": "2575453b-d523-49b8-98e7-6c2c6f31fc0b",
   "metadata": {},
   "outputs": [],
   "source": [
    "np_ssb = np.array(ssb)"
   ]
  },
  {
   "cell_type": "markdown",
   "id": "7948aec6-fbe4-4076-b781-13f00d7892a0",
   "metadata": {},
   "source": [
    "c) Putt alle tallene inn i en egen matrise og konverter disse til int "
   ]
  },
  {
   "cell_type": "code",
   "execution_count": 9,
   "id": "a4211eca-814e-41df-a030-471a14dffc1d",
   "metadata": {},
   "outputs": [],
   "source": [
    "ssb_numbers = np.array(np_ssb[:,1:], dtype=int)"
   ]
  },
  {
   "cell_type": "markdown",
   "id": "df6e1522-255d-4804-9248-611603aca293",
   "metadata": {},
   "source": [
    "d) vis befolkningsutviklingen grafisk for de gjeldene årene ved bruk av matplotlib, og mer spesifikt \"fig, ax = plt.subplots()\". Vis befolkning på y-aksen i millioner"
   ]
  },
  {
   "cell_type": "code",
   "execution_count": 10,
   "id": "1aea3ebd-e525-471b-97cc-292b3d06099a",
   "metadata": {},
   "outputs": [
    {
     "data": {
      "text/plain": [
       "Text(0.5, 1.0, 'Befolkningsutvikling i perioden 2012-2021')"
      ]
     },
     "execution_count": 10,
     "metadata": {},
     "output_type": "execute_result"
    },
    {
     "data": {
      "image/png": "[encoded data removed]",
      "text/plain": [
       "<Figure size 432x288 with 1 Axes>"
      ]
     },
     "metadata": {
      "needs_background": "light"
     },
     "output_type": "display_data"
    }
   ],
   "source": [
    "f, ax = plt.subplots()\n",
    "ax.plot(ssb_numbers[0][1:], ssb_numbers[1][1:]/1000000)\n",
    "ax.set_ylabel(\"Befolkning i milioner\")\n",
    "ax.set_xlabel(\"År\")\n",
    "ax.set_title(\"Befolkningsutvikling i perioden 2012-2021\")"
   ]
  },
  {
   "cell_type": "markdown",
   "id": "91bfe9de-26e4-41dd-b12f-66e5ba714e8a",
   "metadata": {},
   "source": [
    "e) Lag det samme plottet ved bruk av oppslag. Hva er fordelen med dette?"
   ]
  },
  {
   "cell_type": "code",
   "execution_count": 11,
   "id": "5596bd22-3ba8-4ead-8adb-2547e304f75c",
   "metadata": {},
   "outputs": [
    {
     "data": {
      "text/plain": [
       "[<matplotlib.lines.Line2D at 0x7f11872487c0>]"
      ]
     },
     "execution_count": 11,
     "metadata": {},
     "output_type": "execute_result"
    },
    {
     "data": {
      "image/png": "[encoded data removed]",
      "text/plain": [
       "<Figure size 432x288 with 1 Axes>"
      ]
     },
     "metadata": {
      "needs_background": "light"
     },
     "output_type": "display_data"
    }
   ],
   "source": [
    "dictionary = {\"year\":ssb_numbers[0][1:], \"pop\":ssb_numbers[1][1:]/1000000}\n",
    "\n",
    "plt.ylabel(\"Befolkning i millioner\")\n",
    "plt.xlabel(\"År\")\n",
    "plt.plot(dictionary[\"year\"], dictionary[\"pop\"])\n",
    "\n",
    "#Fordelen med et oppslag er at det er mer lesbart og raskere."
   ]
  },
  {
   "cell_type": "markdown",
   "id": "fece5749-eed4-4b5a-92dc-e66bceae14d2",
   "metadata": {},
   "source": [
    "f) Hva er den relative befolkningstilveksten utenom fødsler (dvs. innvandring/utvandring)? Definer en ny array og legg den til i oppslaget du laget i oppgaven tidligere. Kall den \"rel_immigration\". Plot denne sammen med grafen du laget i (d). "
   ]
  },
  {
   "cell_type": "code",
   "execution_count": 12,
   "id": "f511ba92-873e-4114-87db-0a8737c6c582",
   "metadata": {},
   "outputs": [
    {
     "data": {
      "text/plain": [
       "<matplotlib.legend.Legend at 0x7f11873da4c0>"
      ]
     },
     "execution_count": 12,
     "metadata": {},
     "output_type": "execute_result"
    },
    {
     "data": {
      "image/png": "[encoded data removed]",
      "text/plain": [
       "<Figure size 432x288 with 1 Axes>"
      ]
     },
     "metadata": {
      "needs_background": "light"
     },
     "output_type": "display_data"
    }
   ],
   "source": [
    "#Deler movein på moveout for å få relativ vekst.\n",
    "np_movein = ssb_numbers[3][1:]\n",
    "np_moveout = ssb_numbers[4][1:]\n",
    "\n",
    "rel_immigration = np_movein/np_moveout\n",
    "\n",
    "dictionary[\"rel_immigration\"] = rel_immigration\n",
    "\n",
    "plt.ylabel(\"Befolkning\")\n",
    "plt.xlabel(\"År\")\n",
    "plt.plot(dictionary[\"year\"], dictionary[\"pop\"], label=\"befolkning\", color=\"lightblue\")\n",
    "plt.plot(dictionary[\"year\"], dictionary[\"rel_immigration\"], label=\"rel_immigration\", color=\"orange\")\n",
    "\n",
    "plt.legend(loc=\"best\")"
   ]
  },
  {
   "cell_type": "markdown",
   "id": "fc0370be-f664-417f-885d-97b0f6aa22d6",
   "metadata": {},
   "source": [
    "g) ekstrapoeng. Kan plotte de samme tallene (dvs \"rel_immigration\" og \"befolkning\" sammen med år) i to figurer ved siden av hverandre ved bruk av \"fig, (ax1, ax2) = plt.subplots(1, 2)\". Gi grafene ulik farge\n"
   ]
  },
  {
   "cell_type": "code",
   "execution_count": 13,
   "id": "8dc8457a-7144-4bdb-a4d2-9e2c7fb5cac1",
   "metadata": {},
   "outputs": [
    {
     "data": {
      "image/png": "[encoded data removed]",
      "text/plain": [
       "<Figure size 432x288 with 2 Axes>"
      ]
     },
     "metadata": {
      "needs_background": "light"
     },
     "output_type": "display_data"
    }
   ],
   "source": [
    "fig, (ax1, ax2) = plt.subplots(1,2)\n",
    "ax1.plot(dictionary[\"year\"], dictionary[\"pop\"])\n",
    "ax1.set_ylabel(\"Befolkning i milioner\")\n",
    "ax1.set_xlabel(\"År\")\n",
    "ax1.set_title(\"pop\")\n",
    "\n",
    "ax2.plot(dictionary[\"year\"], dictionary[\"rel_immigration\"], color=\"orange\")\n",
    "ax2.set_ylabel(\"Befolkning i tusner\")\n",
    "ax2.set_xlabel(\"År\")\n",
    "ax2.set_title(\"rel_immigration\")\n",
    "\n",
    "fig.tight_layout()"
   ]
  },
  {
   "cell_type": "markdown",
   "id": "091a4c4b-0ab3-42b9-9576-de355e184baf",
   "metadata": {},
   "source": [
    "## Oppgave 4 (20 poeng)"
   ]
  },
  {
   "cell_type": "markdown",
   "id": "806a7eb9-8d04-4fb6-881d-9be4ef739401",
   "metadata": {},
   "source": [
    "Et lån består som regel av et månedlig terminbeløp. Dette beløpet er summen av avdrag (nedbetalingen på lånet) og renter. Vi antar månedlig forrenting i alle oppgavene. Dvs. at det er 12 terminer i hvert år.<br><br>\n",
    "a) Lag en funksjon som regner ut hvor mye lånet \"x\" koster deg i renteutgifter for \"t\" terminer med årlig rente \"r\" for et serielån. <br> <br>  Siden dette er et serielån, så vil avdragene være like hver måned men renteutgiftene reduseres i takt med avdragene. Renteutgiftene for en gitt termin \"t\" vil derfor være den årlige renten \"r\" (delt på antall forrentinger \"f\") på gjenværende beløp på det tidspunktet.   $renteutgifter_{t} = (x-a*(t-1))*{r/f}$   <br>  <br> \n",
    "Det vil si at renteutgiftene første termin er <br>\n",
    "$renteutgifter_{1} = (x-a*0)*{r/f}$, og andre termin er <br>\n",
    "$renteutgifter_{2} = (x-a*1)*{r/f}$ osv..<br> <br>\n",
    "Siden vi er ute etter den totale kostnaden i svaret, må du summere renteutgiftene over alle terminer, det vil si $\\sum_{t=1}^N(x-a*(t-1))*{r/f}$. Dette betyr egentlig bare $renteutgifter_{1} + renteutgifter_{2},...,+renteutgifter_{t}$\n",
    "\n",
    "\n",
    "<br>\n",
    "<b>Hint:</b> siden terminbeløpet varierer for hver måned (pga at rentene endres), må alle enkeltperioder summeres. Det kan være nyttige å bruke funksjonen np.arange() til dette. Mao, det er ikke nødvendig å bruke sigma ($\\sum_{t=1}^N$) i formelen til dette \n"
   ]
  },
  {
   "cell_type": "code",
   "execution_count": 96,
   "id": "95448557-54f1-47cd-a259-c701ce6e0410",
   "metadata": {},
   "outputs": [
    {
     "data": {
      "text/plain": [
       "151250.0"
      ]
     },
     "execution_count": 96,
     "metadata": {},
     "output_type": "execute_result"
    }
   ],
   "source": [
    "def f(x, r, t, f):\n",
    "    return (x-x/t*np.arange(0, t))*r/f\n",
    "\n",
    "\n",
    "np.sum(f(1000000,0.03,120, 12))"
   ]
  },
  {
   "cell_type": "markdown",
   "id": "b85feca9-8641-4d22-b821-157d30ce8223",
   "metadata": {},
   "source": [
    "b) regn ut hvor mye lånet koster deg med henholdsvis 10, 20 og 30 års tilbakebetaling. Anta 1 000 000 kr lånebeløp med 3% rente"
   ]
  },
  {
   "cell_type": "code",
   "execution_count": 91,
   "id": "125e8c17-5283-4fa9-9c4d-5e020e24925c",
   "metadata": {},
   "outputs": [
    {
     "name": "stdout",
     "output_type": "stream",
     "text": [
      "Kostnader etter 10 år: 151250.0\n",
      "Kostnader etter 20 år: 150625.0\n",
      "Kostnader etter 30 år: 150416.66666666666\n"
     ]
    }
   ],
   "source": [
    "print(\"Kostnader etter 10 år: \" + str(np.sum(f(1000000, 0.03, 120, 12))))\n",
    "print(\"Kostnader etter 20 år: \" + str(np.sum(f(1000000, 0.03, 240, 24))))\n",
    "print(\"Kostnader etter 30 år: \" + str(np.sum(f(1000000, 0.03, 360, 36))))"
   ]
  },
  {
   "cell_type": "markdown",
   "id": "0dde7e5b-e8e5-4575-9473-8d621cb7c870",
   "metadata": {},
   "source": [
    "c) Vis hva det samme lånet koster som annuitetslån, dvs differansen mellom alle terminbeløp og lånebeløp.<br> <br> Annuitetslån gir like terminbeløp hver måned, men renten utgjør en større del av dette beløpet i starten. Terminbeløpet for et annuitetslån er definert ved formelen:\n",
    "$T = x*\\frac{r/f} {(1-(1+(r/f))^{-t})}$, hvor x=lånebeløp, r = årlig rente, t = terminer, f= antall forrentinger\n",
    "\n",
    "\n",
    "\n"
   ]
  },
  {
   "cell_type": "code",
   "execution_count": 73,
   "id": "245729d6-a3bf-4696-abfa-9525b9ce9820",
   "metadata": {},
   "outputs": [
    {
     "name": "stdout",
     "output_type": "stream",
     "text": [
      "84693.69875849057\n"
     ]
    }
   ],
   "source": [
    "def annuitetslan(x, r, t, f):\n",
    "    return x*((r/f)/(1-(1+(r/f))**-t))\n",
    "\n",
    "print(annuitetslan(1000000, 0.03, 12, 12))"
   ]
  },
  {
   "cell_type": "markdown",
   "id": "64b32290-0ec7-41a1-b230-052fed8c5c0f",
   "metadata": {},
   "source": [
    "c) Vis hvordan utviklingen i rentekostnader og avdrag på terminer for serielån grafisk ved hjelp av stackplot funksjonen i matplotlib. Anta et bankinnskudd x = 1 000 000 kr, årlig rente r=3% og antall terminer t = 240 (det vil si 20 år). Siden vi må vise utviklingen per termin, husk at \"t\" også definerer hvilken måned vi er i. Dvs, hvis t=15, har det gått 1 år og 3 mnd med terminer. Se forøvrig relevante formler i oppgave (a) \n",
    "\n",
    "<br> \n",
    "\n",
    "<b>Hint1:</b> Siden avdragene er like for alle måneder, kan det være lurt å definere det månedlige avdraget som en liste og gange det med antall perioder. \n",
    "<b>Hint2:</b> Siden vi er ute etter både rentekostnader og avdrag hver for seg, kan det være lurt å definere en funksjon for hver av dem.\n"
   ]
  },
  {
   "cell_type": "code",
   "execution_count": 95,
   "id": "99651332-6550-4c92-ad78-34df073b9fab",
   "metadata": {},
   "outputs": [
    {
     "data": {
      "text/plain": [
       "[<matplotlib.collections.PolyCollection at 0x7fdbdf5481f0>,\n",
       " <matplotlib.collections.PolyCollection at 0x7fdbdf548b50>]"
      ]
     },
     "execution_count": 95,
     "metadata": {},
     "output_type": "execute_result"
    },
    {
     "data": {
      "image/png": "[encoded data removed]",
      "text/plain": [
       "<Figure size 432x288 with 1 Axes>"
      ]
     },
     "metadata": {
      "needs_background": "light"
     },
     "output_type": "display_data"
    }
   ],
   "source": [
    "renter = f(1000000, 0.03, 240, 24)\n",
    "terminer = range(0, 240)\n",
    "avdrag = [1000000/240]*240\n",
    "\n",
    "plt.stackplot(terminer, avdrag, renter, colors =[\"steelblue\", \"r\"])"
   ]
  },
  {
   "cell_type": "code",
   "execution_count": null,
   "id": "c65d748c-2563-401d-be50-1292fe84d429",
   "metadata": {},
   "outputs": [],
   "source": []
  }
 ],
 "metadata": {
  "kernelspec": {
   "display_name": "Python 3 (ipykernel)",
   "language": "python",
   "name": "python3"
  },
  "language_info": {
   "codemirror_mode": {
    "name": "ipython",
    "version": 3
   },
   "file_extension": ".py",
   "mimetype": "text/x-python",
   "name": "python",
   "nbconvert_exporter": "python",
   "pygments_lexer": "ipython3",
   "version": "3.9.13"
  }
 },
 "nbformat": 4,
 "nbformat_minor": 5
}
